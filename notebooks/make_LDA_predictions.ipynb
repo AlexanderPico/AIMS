{
 "cells": [
  {
   "cell_type": "code",
   "execution_count": null,
   "metadata": {},
   "outputs": [],
   "source": [
    "import numpy as np\n",
    "import pandas\n",
    "import csv\n",
    "import matplotlib.pyplot as pl\n",
    "import seaborn as sns\n",
    "\n",
    "# THIS LAST BIT IS TO NAVIAGATE TO WHERE MY CUSTOM MODULES ARE LOCATED\n",
    "import os\n",
    "if os.getcwd()[-4:] != 'AIMS':\n",
    "    default_path = os.getcwd()[:-10]\n",
    "    os.chdir(default_path)\n",
    "\n",
    "import seq_loader\n",
    "import aims_analysis as aims\n",
    "import aims_classification as classy"
   ]
  },
  {
   "cell_type": "markdown",
   "metadata": {},
   "source": [
    "# Apply A Pre-Trained Classifier to Test Sequences"
   ]
  },
  {
   "cell_type": "code",
   "execution_count": null,
   "metadata": {},
   "outputs": [],
   "source": [
    "# To re-create figure 6A, we need to load in all of the naturally-derived polyreactivity data\n",
    "[mono_all,poly_all,mono,poly]=seq_loader.getBunker()\n",
    "[mono_jennaAll,poly_jennaAll,mono_jenna,poly_jenna]=seq_loader.getJenna()\n",
    "[mono_HugoAll,poly_HugoAll,mono_Hugo,poly_Hugo]=seq_loader.getHugo()\n",
    "[mono_HugNat_all,poly_HugNat_all,mono_HugNat,poly_HugNat]=seq_loader.getHugo_Nature()\n",
    "[mono_PLOS,poly_PLOS]=seq_loader.getHugo_PLOS()\n",
    "[mono_HugNat_allCNT,poly_HugNat_allCNT,mono_HugNatCNT,poly_HugNatCNT] = seq_loader.getHugo_NatCNTRL()\n",
    "\n",
    "parse_mono=np.hstack((mono,mono_jenna,mono_Hugo,mono_HugNat,mono_HugNatCNT,mono_PLOS))\n",
    "parse_poly=np.hstack((poly,poly_jenna,poly_Hugo,poly_HugNat,poly_HugNatCNT,poly_PLOS))"
   ]
  },
  {
   "cell_type": "code",
   "execution_count": null,
   "metadata": {},
   "outputs": [],
   "source": [
    "# Read in your test sequences in the recommended format:\n",
    "# https://aims-doc.readthedocs.io/en/latest/AIMS_basics.html#formatting\n",
    "\n",
    "with open('/Users/alexpico/Desktop/test_seqs.csv', 'r') as csv_file:\n",
    "    reader = csv.reader(csv_file)\n",
    "    next(reader)\n",
    "    test_seqs = list(reader)\n",
    "\n",
    "test_seqs = np.transpose(test_seqs)\n",
    "test_seqs"
   ]
  },
  {
   "cell_type": "code",
   "execution_count": null,
   "metadata": {
    "tags": []
   },
   "outputs": [],
   "source": [
    "# Re-Run this command,since it is fast anyway\n",
    "# Really running it here for the \"MatrixSize\" variable\n",
    "x,y,MatrixSize = aims.gen_tcr_matrix(parse_poly,pre_mono=parse_mono,binary=True,return_Size=True)\n",
    "\n",
    "num_mono = np.shape(parse_mono)[1]\n",
    "num_poly = np.shape(parse_poly)[1]\n",
    "\n",
    "# Pretty slow step when dealing with large matrix (full/parsed data)\n",
    "numVects = 75\n",
    "full_big_nat, weights_nat, acc_nat, mda_nat, parsed_mat_nat, top_names_nat = classy.do_linear_split(parse_mono,parse_poly,ridCorr = True, giveSize = MatrixSize, matSize = numVects)\n",
    "\n",
    "# Print out the accuracy\n",
    "print(\"Prediction accuracy: \" + str(acc_nat))"
   ]
  },
  {
   "cell_type": "markdown",
   "metadata": {},
   "source": [
    "# And now for the predicted likelihood of polyreactivity"
   ]
  },
  {
   "cell_type": "code",
   "execution_count": null,
   "metadata": {},
   "outputs": [],
   "source": [
    "# Apply the pretrained LDA model to your test sequences\n",
    "test_Big = classy.get_bigass_matrix(test_seqs,giveSize = MatrixSize)\n",
    "test_apply = classy.apply_pretrained_LDA(test_Big,top_names_nat, weights_nat)\n",
    "mda_test = test_apply\n",
    "test_dim = np.shape(test_apply)[0]\n",
    "\n",
    "print(\"LDA prediction values: \\n\" + str(mda_test))\n",
    "# Note: the order of values is the same as the input order, so you can assign values to your original sequences."
   ]
  },
  {
   "cell_type": "code",
   "execution_count": null,
   "metadata": {},
   "outputs": [],
   "source": [
    "# A swarmplot comparing the predicted values (right) to the distribution of known entities\n",
    "names = [\"Naturally Derived\" for x in range(num_mono+num_poly)] + [\"Test Abs\" for x in range(test_dim)]\n",
    "full_dset = np.vstack((mda_nat,mda_test))\n",
    "reacts = [\"Non-Polyreactive\" for x in range(num_mono)] + [\"Polyreactive\" for x in range(num_poly)] + [\"Test\" for x in range(test_dim)]\n",
    "\n",
    "fig = pl.figure(figsize = (16, 8))\n",
    "d1 = {'Dataset': names, 'Linear Discriminant 1': full_dset.reshape(len(full_dset)),\n",
    "     'Reactivity' : reacts}\n",
    "df1 = pandas.DataFrame(data=d1)\n",
    "sns.set(style=\"white\", color_codes=True,font_scale=1.5)\n",
    "# Note, I did edit colors outside of python\n",
    "zz = sns.swarmplot(x=\"Dataset\", y=\"Linear Discriminant 1\", data=df1, hue = 'Reactivity', palette = \"Dark2\")\n",
    "\n",
    "sns.despine()\n",
    "zz.legend_.remove()\n",
    "pl.legend(loc='upper right')\n",
    "#pl.savefig('LDA_hiv_thera.pdf',format='pdf')"
   ]
  }
 ],
 "metadata": {
  "kernelspec": {
   "display_name": "Python 3 (ipykernel)",
   "language": "python",
   "name": "python3"
  },
  "language_info": {
   "codemirror_mode": {
    "name": "ipython",
    "version": 3
   },
   "file_extension": ".py",
   "mimetype": "text/x-python",
   "name": "python",
   "nbconvert_exporter": "python",
   "pygments_lexer": "ipython3",
   "version": "3.9.7"
  }
 },
 "nbformat": 4,
 "nbformat_minor": 4
}
